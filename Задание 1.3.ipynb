{
 "cells": [
  {
   "cell_type": "markdown",
   "metadata": {},
   "source": [
    "Выполните следующие задания на Python без использования сторонних библиотек"
   ]
  },
  {
   "cell_type": "markdown",
   "metadata": {},
   "source": [
    "1. Напишите программу, которая будет выводить на экран площадь квадрата и его периметр. Сторона квадрата будет равна 25"
   ]
  },
  {
   "cell_type": "code",
   "execution_count": 17,
   "metadata": {},
   "outputs": [
    {
     "name": "stdout",
     "output_type": "stream",
     "text": [
      "625 100\n"
     ]
    }
   ],
   "source": [
    "side = 25\n",
    "area = side ** 2\n",
    "perimetr = side * 4\n",
    "print (area, perimetr)"
   ]
  },
  {
   "cell_type": "markdown",
   "metadata": {},
   "source": [
    "2. Напишите функцию, которая будет принимать два числа и считать сумму квадратов этих двух чисел, запишите своё вычисление в переменную squared. (Подсказка: Помните, чтобы записать результат функции в переменную, она должна этот результат внутри себя возвращать! Return)"
   ]
  },
  {
   "cell_type": "code",
   "execution_count": 18,
   "metadata": {},
   "outputs": [
    {
     "name": "stdout",
     "output_type": "stream",
     "text": [
      "25\n"
     ]
    }
   ],
   "source": [
    "def squares_summ(a, b):\n",
    "    return a ** 2 + b ** 2\n",
    "squared = squares_summ(3, 4)\n",
    "print(squared)"
   ]
  },
  {
   "cell_type": "markdown",
   "metadata": {},
   "source": [
    "3. Напишите функцию, которая будет принимать на вход список  [“male“,“male“,“female“,“male“,“male“,“female“,”female“] и возвращать его в обратном порядке. Запишите список в переменную new_list. Подсказка: Вам поможет обратная индексация к спискам ! [::-1]"
   ]
  },
  {
   "cell_type": "code",
   "execution_count": 19,
   "metadata": {},
   "outputs": [
    {
     "name": "stdout",
     "output_type": "stream",
     "text": [
      "['female', 'female', 'male', 'male', 'female', 'male', 'male']\n"
     ]
    }
   ],
   "source": [
    "def clockwise_list (list):\n",
    "    return list [::-1]\n",
    "list = [\"male\", \"male\", \"female\", \"male\", \"male\", \"female\", \"female\"] \n",
    "new_list = clockwise_list (list)\n",
    "print (new_list)"
   ]
  },
  {
   "cell_type": "markdown",
   "metadata": {},
   "source": [
    "4. Напишите функцию, которая будет принимать на вход список (new_list) и идти по нему в цикле. На выходе функция должна вывести на экран: Кол-во мужчин 4, Кол-во женщин 3"
   ]
  },
  {
   "cell_type": "code",
   "execution_count": 20,
   "metadata": {},
   "outputs": [
    {
     "name": "stdout",
     "output_type": "stream",
     "text": [
      "4 3\n"
     ]
    }
   ],
   "source": [
    "def gender_calculator (list):\n",
    "    male = 0\n",
    "    female = 0\n",
    "    for i in list:\n",
    "        if i == 'male':\n",
    "            male += 1\n",
    "        elif i == 'female':\n",
    "            female += 1\n",
    "    return male, female\n",
    "male, female = gender_calculator (list)\n",
    "print (male, female)"
   ]
  },
  {
   "cell_type": "markdown",
   "metadata": {},
   "source": [
    "5. Напишите функцию, которая будет принимать строку (Например: “female”), а возвращать словарь где ключи — это символы строки, а значения кол-во символов в строке"
   ]
  },
  {
   "cell_type": "code",
   "execution_count": 21,
   "metadata": {},
   "outputs": [
    {
     "data": {
      "text/plain": [
       "{'f': 1, 'e': 2, 'm': 1, 'a': 1, 'l': 1}"
      ]
     },
     "execution_count": 21,
     "metadata": {},
     "output_type": "execute_result"
    }
   ],
   "source": [
    "def symbols_calc (word):\n",
    "    symbols = {}\n",
    "    for symbol in word:\n",
    "        if symbol in symbols:\n",
    "            symbols[symbol] += 1\n",
    "        else:\n",
    "            symbols[symbol] = 1\n",
    "    return symbols\n",
    "symbols_calc ('female')"
   ]
  },
  {
   "cell_type": "markdown",
   "metadata": {},
   "source": [
    "6. Воспользуйтесь функцией range в Python и выведите на экран сумму квадратов от 1 до 100 (включительно)"
   ]
  },
  {
   "cell_type": "code",
   "execution_count": 22,
   "metadata": {},
   "outputs": [
    {
     "name": "stdout",
     "output_type": "stream",
     "text": [
      "квадрат числа 1 = 1\n",
      "квадрат числа 2 = 4\n",
      "квадрат числа 3 = 9\n",
      "квадрат числа 4 = 16\n",
      "квадрат числа 5 = 25\n",
      "квадрат числа 6 = 36\n",
      "квадрат числа 7 = 49\n",
      "квадрат числа 8 = 64\n",
      "квадрат числа 9 = 81\n",
      "квадрат числа 10 = 100\n",
      "квадрат числа 11 = 121\n",
      "квадрат числа 12 = 144\n",
      "квадрат числа 13 = 169\n",
      "квадрат числа 14 = 196\n",
      "квадрат числа 15 = 225\n",
      "квадрат числа 16 = 256\n",
      "квадрат числа 17 = 289\n",
      "квадрат числа 18 = 324\n",
      "квадрат числа 19 = 361\n",
      "квадрат числа 20 = 400\n",
      "квадрат числа 21 = 441\n",
      "квадрат числа 22 = 484\n",
      "квадрат числа 23 = 529\n",
      "квадрат числа 24 = 576\n",
      "квадрат числа 25 = 625\n",
      "квадрат числа 26 = 676\n",
      "квадрат числа 27 = 729\n",
      "квадрат числа 28 = 784\n",
      "квадрат числа 29 = 841\n",
      "квадрат числа 30 = 900\n",
      "квадрат числа 31 = 961\n",
      "квадрат числа 32 = 1024\n",
      "квадрат числа 33 = 1089\n",
      "квадрат числа 34 = 1156\n",
      "квадрат числа 35 = 1225\n",
      "квадрат числа 36 = 1296\n",
      "квадрат числа 37 = 1369\n",
      "квадрат числа 38 = 1444\n",
      "квадрат числа 39 = 1521\n",
      "квадрат числа 40 = 1600\n",
      "квадрат числа 41 = 1681\n",
      "квадрат числа 42 = 1764\n",
      "квадрат числа 43 = 1849\n",
      "квадрат числа 44 = 1936\n",
      "квадрат числа 45 = 2025\n",
      "квадрат числа 46 = 2116\n",
      "квадрат числа 47 = 2209\n",
      "квадрат числа 48 = 2304\n",
      "квадрат числа 49 = 2401\n",
      "квадрат числа 50 = 2500\n",
      "квадрат числа 51 = 2601\n",
      "квадрат числа 52 = 2704\n",
      "квадрат числа 53 = 2809\n",
      "квадрат числа 54 = 2916\n",
      "квадрат числа 55 = 3025\n",
      "квадрат числа 56 = 3136\n",
      "квадрат числа 57 = 3249\n",
      "квадрат числа 58 = 3364\n",
      "квадрат числа 59 = 3481\n",
      "квадрат числа 60 = 3600\n",
      "квадрат числа 61 = 3721\n",
      "квадрат числа 62 = 3844\n",
      "квадрат числа 63 = 3969\n",
      "квадрат числа 64 = 4096\n",
      "квадрат числа 65 = 4225\n",
      "квадрат числа 66 = 4356\n",
      "квадрат числа 67 = 4489\n",
      "квадрат числа 68 = 4624\n",
      "квадрат числа 69 = 4761\n",
      "квадрат числа 70 = 4900\n",
      "квадрат числа 71 = 5041\n",
      "квадрат числа 72 = 5184\n",
      "квадрат числа 73 = 5329\n",
      "квадрат числа 74 = 5476\n",
      "квадрат числа 75 = 5625\n",
      "квадрат числа 76 = 5776\n",
      "квадрат числа 77 = 5929\n",
      "квадрат числа 78 = 6084\n",
      "квадрат числа 79 = 6241\n",
      "квадрат числа 80 = 6400\n",
      "квадрат числа 81 = 6561\n",
      "квадрат числа 82 = 6724\n",
      "квадрат числа 83 = 6889\n",
      "квадрат числа 84 = 7056\n",
      "квадрат числа 85 = 7225\n",
      "квадрат числа 86 = 7396\n",
      "квадрат числа 87 = 7569\n",
      "квадрат числа 88 = 7744\n",
      "квадрат числа 89 = 7921\n",
      "квадрат числа 90 = 8100\n",
      "квадрат числа 91 = 8281\n",
      "квадрат числа 92 = 8464\n",
      "квадрат числа 93 = 8649\n",
      "квадрат числа 94 = 8836\n",
      "квадрат числа 95 = 9025\n",
      "квадрат числа 96 = 9216\n",
      "квадрат числа 97 = 9409\n",
      "квадрат числа 98 = 9604\n",
      "квадрат числа 99 = 9801\n",
      "квадрат числа 100 = 10000\n",
      "Итого: сумма квадратов от 1 до 100 = 338350\n"
     ]
    }
   ],
   "source": [
    "squares_summ = 0\n",
    "for i in range (1,101):\n",
    "    squares_summ += i **2\n",
    "    print(f'квадрат числа {i} = {i ** 2}')\n",
    "print(f\"Итого: сумма квадратов от 1 до 100 = {squares_summ}\")"
   ]
  },
  {
   "cell_type": "markdown",
   "metadata": {},
   "source": [
    "7. Укажите какой метод добавит значение в конец списка. Приведите пример"
   ]
  },
  {
   "cell_type": "code",
   "execution_count": 23,
   "metadata": {},
   "outputs": [
    {
     "data": {
      "text/plain": [
       "['pikachu', 'bulbazavr', 'slowpoke', 'Dmitry']"
      ]
     },
     "execution_count": 23,
     "metadata": {},
     "output_type": "execute_result"
    }
   ],
   "source": [
    "pokemon = ['pikachu', 'bulbazavr', 'slowpoke']\n",
    "pokemon.append ('Dmitry')\n",
    "pokemon"
   ]
  },
  {
   "cell_type": "markdown",
   "metadata": {},
   "source": [
    "8. Как объединить два списка \"a\" и \"b\" в один новый список \"c\"? Приведите пример"
   ]
  },
  {
   "cell_type": "code",
   "execution_count": 24,
   "metadata": {},
   "outputs": [
    {
     "data": {
      "text/plain": [
       "[1, 1, 'Robo', 'Cop', 5, 6]"
      ]
     },
     "execution_count": 24,
     "metadata": {},
     "output_type": "execute_result"
    }
   ],
   "source": [
    "список_a = [1, 1, 'Robo']\n",
    "список_b = ['Cop', 5, 6]\n",
    "список_c = список_a + список_b\n",
    "список_c"
   ]
  },
  {
   "cell_type": "markdown",
   "metadata": {},
   "source": [
    "9. Укажите какой метод посчитает количество значений 'a' в списке ['a', 'b', 'c', 'e', 'a', 'g', 'a', 'q']. Приведите пример"
   ]
  },
  {
   "cell_type": "code",
   "execution_count": 25,
   "metadata": {},
   "outputs": [
    {
     "data": {
      "text/plain": [
       "2"
      ]
     },
     "execution_count": 25,
     "metadata": {},
     "output_type": "execute_result"
    }
   ],
   "source": [
    "список_c.count (1)"
   ]
  },
  {
   "cell_type": "markdown",
   "metadata": {},
   "source": [
    "10. Исправьте следующий код, так чтобы он отрабатывал правильно"
   ]
  },
  {
   "cell_type": "code",
   "execution_count": 26,
   "metadata": {},
   "outputs": [
    {
     "name": "stdout",
     "output_type": "stream",
     "text": [
      "x больше, либо равен y\n"
     ]
    }
   ],
   "source": [
    "x = 2**4\n",
    "y = 4**2\n",
    "if x < y:\n",
    "    print(\"x меньше y\") \n",
    "else: \n",
    "    print(\"x больше, либо равен y\")"
   ]
  },
  {
   "cell_type": "markdown",
   "metadata": {},
   "source": [
    "### Задание ПРО"
   ]
  },
  {
   "cell_type": "markdown",
   "metadata": {},
   "source": [
    "1. Написать программу, которая будет выводить на экран числа Фибоначчи до заданного числа."
   ]
  },
  {
   "cell_type": "code",
   "execution_count": 27,
   "metadata": {},
   "outputs": [
    {
     "name": "stdout",
     "output_type": "stream",
     "text": [
      "1\n",
      "1\n",
      "2\n",
      "3\n",
      "5\n",
      "8\n",
      "13\n",
      "21\n",
      "34\n"
     ]
    }
   ],
   "source": [
    "def fibo(B):\n",
    "    a, b = 0, 1\n",
    "    while b <= B:\n",
    "        print(b)\n",
    "        a, b = b, a + b\n",
    "fibo(50)"
   ]
  },
  {
   "cell_type": "markdown",
   "metadata": {},
   "source": [
    "2. Напишите программу, которая на вход принимает список чисел и возвращает только уникальные значения из этого списка."
   ]
  },
  {
   "cell_type": "code",
   "execution_count": 28,
   "metadata": {},
   "outputs": [
    {
     "ename": "TypeError",
     "evalue": "'list' object is not callable",
     "output_type": "error",
     "traceback": [
      "\u001b[1;31m---------------------------------------------------------------------------\u001b[0m",
      "\u001b[1;31mTypeError\u001b[0m                                 Traceback (most recent call last)",
      "Cell \u001b[1;32mIn[28], line 2\u001b[0m\n\u001b[0;32m      1\u001b[0m numbers \u001b[38;5;241m=\u001b[39m [\u001b[38;5;241m1\u001b[39m, \u001b[38;5;241m2\u001b[39m, \u001b[38;5;241m2\u001b[39m, \u001b[38;5;241m3\u001b[39m, \u001b[38;5;241m3\u001b[39m, \u001b[38;5;241m4\u001b[39m, \u001b[38;5;241m5\u001b[39m]\n\u001b[1;32m----> 2\u001b[0m unique_numbers \u001b[38;5;241m=\u001b[39m \u001b[38;5;28mlist\u001b[39m(\u001b[38;5;28mset\u001b[39m(numbers))\n\u001b[0;32m      3\u001b[0m unique_numbers\n",
      "\u001b[1;31mTypeError\u001b[0m: 'list' object is not callable"
     ]
    }
   ],
   "source": [
    "numbers = [1, 2, 2, 3, 3, 4, 5]\n",
    "unique_numbers = list(set(numbers))\n",
    "unique_numbers"
   ]
  },
  {
   "cell_type": "markdown",
   "metadata": {},
   "source": [
    "3. Напишите программу, которая переводит температуру в градусах Фаренгейта в градусы Цельсия"
   ]
  },
  {
   "cell_type": "code",
   "execution_count": 14,
   "metadata": {},
   "outputs": [
    {
     "data": {
      "text/plain": [
       "-40"
      ]
     },
     "execution_count": 14,
     "metadata": {},
     "output_type": "execute_result"
    }
   ],
   "source": [
    "F = -39\n",
    "C = (F-32)*5//9\n",
    "C"
   ]
  },
  {
   "cell_type": "markdown",
   "metadata": {},
   "source": [
    "4. Напишите программу, которая проверяет, является ли строка палиндромом без использования стандартных методов."
   ]
  },
  {
   "cell_type": "code",
   "execution_count": 15,
   "metadata": {},
   "outputs": [
    {
     "data": {
      "text/plain": [
       "True"
      ]
     },
     "execution_count": 15,
     "metadata": {},
     "output_type": "execute_result"
    }
   ],
   "source": [
    "def palindrome(s):\n",
    "    s_lower = s.lower().replace(\" \",\"\")\n",
    "    return s_lower == s_lower[::-1]\n",
    "palindrome(\"Аргентина манит негра\")"
   ]
  }
 ],
 "metadata": {
  "kernelspec": {
   "display_name": "base",
   "language": "python",
   "name": "python3"
  },
  "language_info": {
   "codemirror_mode": {
    "name": "ipython",
    "version": 3
   },
   "file_extension": ".py",
   "mimetype": "text/x-python",
   "name": "python",
   "nbconvert_exporter": "python",
   "pygments_lexer": "ipython3",
   "version": "3.12.4"
  }
 },
 "nbformat": 4,
 "nbformat_minor": 2
}
